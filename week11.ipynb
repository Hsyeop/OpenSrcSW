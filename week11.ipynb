{
 "cells": [
  {
   "cell_type": "code",
   "execution_count": null,
   "id": "84a6d38f",
   "metadata": {},
   "outputs": [],
   "source": [
    "userinput = input()\n",
    "\n",
    "filepath = \"C:/Users/tmddu/PycharmProjects/OpenSrcSW/\"\n",
    "\n",
    "file1 = filepath + userinput.split()[1] + \".txt\"\n",
    "file2 = filepath + userinput.split()[2] + \".txt\"\n",
    "\n",
    "f = open(file1, 'r')\n",
    "f2 = open(file2, 'w')\n",
    "while True:\n",
    "    line = f.readline()\n",
    "    if not line:\n",
    "        break\n",
    "    f2.write(line)\n",
    "\n",
    "f.close()\n",
    "f2.close()\n"
   ]
  },
  {
   "cell_type": "code",
   "execution_count": 4,
   "id": "944b9339",
   "metadata": {},
   "outputs": [
    {
     "name": "stdout",
     "output_type": "stream",
     "text": [
      "wc file1\n",
      "# of lines : 12\n",
      "# of words : 97\n"
     ]
    }
   ],
   "source": [
    "userinput = input()\n",
    "\n",
    "filepath = \"C:/Users/tmddu/PycharmProjects/OpenSrcSW/\"\n",
    "\n",
    "file = filepath + userinput.split()[1] + \".txt\"\n",
    "\n",
    "f = open(file, 'r')\n",
    "\n",
    "lines = 0\n",
    "words = 0\n",
    "\n",
    "while True:\n",
    "    line = f.readline()\n",
    "    if not line:\n",
    "        break\n",
    "    lines += 1\n",
    "    word_list = line.split()\n",
    "    words += len(word_list)\n",
    "\n",
    "print(\"# of lines :\", lines)\n",
    "print(\"# of words :\", words)\n"
   ]
  },
  {
   "cell_type": "code",
   "execution_count": 1,
   "id": "69ea2513",
   "metadata": {},
   "outputs": [
    {
     "name": "stdout",
     "output_type": "stream",
     "text": [
      "a + b = 3\n",
      "a - b = 4\n",
      "a * b = 6\n",
      "a / b = 3\n"
     ]
    }
   ],
   "source": [
    "class Calc:\n",
    "\n",
    "    def sum(self, a, b):\n",
    "        result = a + b\n",
    "        print(\"a + b =\", result)\n",
    "\n",
    "    def sub(self, a, b):\n",
    "        result = a - b\n",
    "        print(\"a - b =\", result)\n",
    "\n",
    "    def mul(self, a, b):\n",
    "        result = a * b\n",
    "        print(\"a * b =\", result)\n",
    "\n",
    "    def divi(self, a, b):\n",
    "        result = a // b\n",
    "        print(\"a / b =\", result)\n",
    "\n",
    "\n",
    "calc = Calc()\n",
    "calc.sum(1, 2)\n",
    "calc.sub(5, 1)\n",
    "calc. mul(2, 3)\n",
    "calc.divi(6, 2)"
   ]
  },
  {
   "cell_type": "code",
   "execution_count": null,
   "id": "5c08d372",
   "metadata": {},
   "outputs": [],
   "source": []
  }
 ],
 "metadata": {
  "kernelspec": {
   "display_name": "Python 3",
   "language": "python",
   "name": "python3"
  },
  "language_info": {
   "codemirror_mode": {
    "name": "ipython",
    "version": 3
   },
   "file_extension": ".py",
   "mimetype": "text/x-python",
   "name": "python",
   "nbconvert_exporter": "python",
   "pygments_lexer": "ipython3",
   "version": "3.9.2"
  }
 },
 "nbformat": 4,
 "nbformat_minor": 5
}
