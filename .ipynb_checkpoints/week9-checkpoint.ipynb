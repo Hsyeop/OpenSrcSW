{
 "cells": [
  {
   "cell_type": "code",
   "execution_count": 2,
   "id": "343bb31c",
   "metadata": {},
   "outputs": [
    {
     "name": "stdout",
     "output_type": "stream",
     "text": [
      "3\n",
      "45\n"
     ]
    }
   ],
   "source": [
    "x = int(input())\n",
    "y = 3*(x*x) + 5*x + 3\n",
    "print(y)"
   ]
  },
  {
   "cell_type": "code",
   "execution_count": 5,
   "id": "b7488d01",
   "metadata": {},
   "outputs": [
    {
     "name": "stdout",
     "output_type": "stream",
     "text": [
      "3\n",
      "원의 둘레 : 18.84\n",
      "원의 넓이 : 28.26\n"
     ]
    }
   ],
   "source": [
    "r = int(input())\n",
    "pi = 3.14\n",
    "round = 2*pi*r\n",
    "area = pi*(r*r)\n",
    "print(\"원의 둘레 : \" + str(round))\n",
    "print(\"원의 넓이 : \" + str(area))"
   ]
  },
  {
   "cell_type": "code",
   "execution_count": null,
   "id": "588c8d52",
   "metadata": {},
   "outputs": [],
   "source": []
  }
 ],
 "metadata": {
  "kernelspec": {
   "display_name": "Python 3",
   "language": "python",
   "name": "python3"
  },
  "language_info": {
   "codemirror_mode": {
    "name": "ipython",
    "version": 3
   },
   "file_extension": ".py",
   "mimetype": "text/x-python",
   "name": "python",
   "nbconvert_exporter": "python",
   "pygments_lexer": "ipython3",
   "version": "3.9.2"
  }
 },
 "nbformat": 4,
 "nbformat_minor": 5
}
