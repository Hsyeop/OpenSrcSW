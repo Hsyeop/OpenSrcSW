{
 "cells": [
  {
   "cell_type": "code",
   "execution_count": 3,
   "id": "e3a176b1",
   "metadata": {},
   "outputs": [
    {
     "name": "stdout",
     "output_type": "stream",
     "text": [
      "(1,2)\n",
      "(3,4)\n",
      "(4,6)\n"
     ]
    }
   ],
   "source": [
    "class Point():\n",
    "    def __init__(self, a, b):\n",
    "        self.a = a\n",
    "        self.b = b\n",
    "        self.result = (self.a, self.b)\n",
    "\n",
    "    def show(self):\n",
    "        print(\"(\" + str(self.a) + \",\" + str(self.b) + \")\")\n",
    "\n",
    "    def __add__(self, other):\n",
    "        aa = self.a + other.a\n",
    "        bb = self.b + other.b\n",
    "        return Point(aa, bb)\n",
    "\n",
    "\n",
    "a = Point(1, 2)\n",
    "a.show()\n",
    "\n",
    "b = Point(3, 4)\n",
    "b.show()\n",
    "\n",
    "a = a + b\n",
    "a.show()"
   ]
  },
  {
   "cell_type": "code",
   "execution_count": 2,
   "id": "a7dedd1e",
   "metadata": {},
   "outputs": [
    {
     "name": "stdout",
     "output_type": "stream",
     "text": [
      "Max Week = 5/8 ~ 5/14\n"
     ]
    }
   ],
   "source": [
    "import csv\n",
    "\n",
    "f = open('seoul.csv')\n",
    "data = csv.reader(f)\n",
    "next(data)\n",
    "\n",
    "maxNum = 0\n",
    "maxT = []\n",
    "\n",
    "count = 0\n",
    "for d in data:\n",
    "    if count % 7 == 0 and count > 6:\n",
    "        maxT.append((maxNum, int(count)))\n",
    "        maxNum = 0\n",
    "    temp = float(d[4]) - float(d[3])\n",
    "    maxNum += temp\n",
    "    count += 1\n",
    "\n",
    "maxT.sort(reverse=True)\n",
    "dayE = maxT[0][1]\n",
    "\n",
    "dateS = '5/' + str(dayE-6)\n",
    "dateE = '5/' + str(dayE)\n",
    "\n",
    "print(\"Max Week = \" + dateS + \" ~ \" + dateE)\n"
   ]
  },
  {
   "cell_type": "code",
   "execution_count": null,
   "id": "c81f244d",
   "metadata": {},
   "outputs": [],
   "source": [
    "import numpy as np\n",
    "import matplotlib.pyplot as plt\n",
    "\n",
    "Docs =[[1, 1, 0, 1, 0, 1], [1, 1, 1, 0, 1, 0], [1, 1, 0, 1, 0, 0]]\n",
    "Query = [1, 1, 0, 0, 1, 0]\n",
    "Query = np.array(Query)\n",
    "\n",
    "answer = []\n",
    "\n",
    "for doc in Docs:\n",
    "    dd = np.array(doc)\n",
    "    temp = 0\n",
    "    for i in range(6):\n",
    "        mul = dd[i] * Query[i]\n",
    "        # print(mul)\n",
    "        temp += mul\n",
    "    ans = float(temp) / float(36)\n",
    "    answer.append(ans)\n",
    "    print(ans)\n",
    "\n",
    "plt.bar(1, answer)\n",
    "plt.show()\n",
    "\n"
   ]
  }
 ],
 "metadata": {
  "kernelspec": {
   "display_name": "Python 3",
   "language": "python",
   "name": "python3"
  },
  "language_info": {
   "codemirror_mode": {
    "name": "ipython",
    "version": 3
   },
   "file_extension": ".py",
   "mimetype": "text/x-python",
   "name": "python",
   "nbconvert_exporter": "python",
   "pygments_lexer": "ipython3",
   "version": "3.9.2"
  }
 },
 "nbformat": 4,
 "nbformat_minor": 5
}
