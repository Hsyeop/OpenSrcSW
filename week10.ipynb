{
 "cells": [
  {
   "cell_type": "code",
   "execution_count": 10,
   "id": "8d5a7c25",
   "metadata": {},
   "outputs": [
    {
     "name": "stdout",
     "output_type": "stream",
     "text": [
      "Numbers? 10 456 87 78\n",
      "Max = 456\n"
     ]
    }
   ],
   "source": [
    "nums = list(map(int, input(\"Numbers? \").split()))\n",
    "max_num = max(nums)\n",
    "print(\"Max =\", max_num)"
   ]
  },
  {
   "cell_type": "code",
   "execution_count": 18,
   "id": "3a772f53",
   "metadata": {},
   "outputs": [
    {
     "name": "stdout",
     "output_type": "stream",
     "text": [
      "암호화할 문자열 입력 : abc def\n",
      "efg bcd \n",
      "복호화할 문자열 입력 : efg bcd\n",
      "abc def \n"
     ]
    }
   ],
   "source": [
    "def encryption(str_list):\n",
    "    ans = \"\"\n",
    "    for s in str_list:\n",
    "        for i in range(len(s)):\n",
    "            temp = ord(s[i]) + 1\n",
    "            ex = chr(int(temp))\n",
    "            ans += ex\n",
    "        ans += \" \"\n",
    "    return ans\n",
    "\n",
    "\n",
    "def decryption(str_list):\n",
    "    ans = \"\"\n",
    "    for s in str_list:\n",
    "        for i in range(len(s)):\n",
    "            temp = ord(s[i]) - 1\n",
    "            ex = chr(int(temp))\n",
    "            ans += ex\n",
    "        ans += \" \"\n",
    "    return ans\n",
    "\n",
    "\n",
    "encrp = input(\"암호화할 문자열 입력 : \").split()\n",
    "encrp.reverse()\n",
    "ans_enc = encryption(encrp)\n",
    "print(ans_enc)\n",
    "\n",
    "decrp = input(\"복호화할 문자열 입력 : \").split()\n",
    "decrp.reverse()\n",
    "ans_dec = decryption(decrp)\n",
    "print(ans_dec)\n"
   ]
  },
  {
   "cell_type": "code",
   "execution_count": 19,
   "id": "9cb9b50b",
   "metadata": {},
   "outputs": [
    {
     "name": "stdout",
     "output_type": "stream",
     "text": [
      "input 10 people's name & tel\n",
      "abc 123\n",
      "qwe 234\n",
      "wer 345\n",
      "ert 456\n",
      "jkl 567\n",
      "uio 678\n",
      "bnm 789\n",
      "tut 432\n",
      "qiw 321\n",
      "zxd 890\n",
      "<<<<<<<<<< Menu >>>>>>>>>>\n",
      "1. 이름 검색\n",
      "2. 전화번호 검색\n",
      "3. 종료\n",
      "메뉴 선택 : 1\n",
      "name = abc\n",
      "123\n",
      "<<<<<<<<<< Menu >>>>>>>>>>\n",
      "1. 이름 검색\n",
      "2. 전화번호 검색\n",
      "3. 종료\n",
      "메뉴 선택 : 2\n",
      "tel = 567\n",
      "jkl\n",
      "<<<<<<<<<< Menu >>>>>>>>>>\n",
      "1. 이름 검색\n",
      "2. 전화번호 검색\n",
      "3. 종료\n",
      "메뉴 선택 : 3\n"
     ]
    }
   ],
   "source": [
    "data = dict()\n",
    "reverse_data = dict()\n",
    "\n",
    "print(\"input 10 people's name & tel\")\n",
    "for i in range(10):\n",
    "    input_data = input().split()\n",
    "    data[input_data[0]] = input_data[1]\n",
    "    reverse_data[input_data[1]] = input_data[0]\n",
    "\n",
    "while True:\n",
    "    print(\"<<<<<<<<<< Menu >>>>>>>>>>\")\n",
    "    print(\"1. 이름 검색\")\n",
    "    print(\"2. 전화번호 검색\")\n",
    "    print(\"3. 종료\")\n",
    "    select = int(input(\"메뉴 선택 : \"))\n",
    "\n",
    "    if select == 1:\n",
    "        name = input(\"name = \")\n",
    "        print(data[name])\n",
    "    elif select == 2:\n",
    "        tel = input(\"tel = \")\n",
    "        print(reverse_data[tel])\n",
    "    else:\n",
    "        break\n"
   ]
  },
  {
   "cell_type": "code",
   "execution_count": null,
   "id": "3cbf153d",
   "metadata": {},
   "outputs": [],
   "source": []
  }
 ],
 "metadata": {
  "kernelspec": {
   "display_name": "Python 3",
   "language": "python",
   "name": "python3"
  },
  "language_info": {
   "codemirror_mode": {
    "name": "ipython",
    "version": 3
   },
   "file_extension": ".py",
   "mimetype": "text/x-python",
   "name": "python",
   "nbconvert_exporter": "python",
   "pygments_lexer": "ipython3",
   "version": "3.9.2"
  }
 },
 "nbformat": 4,
 "nbformat_minor": 5
}
